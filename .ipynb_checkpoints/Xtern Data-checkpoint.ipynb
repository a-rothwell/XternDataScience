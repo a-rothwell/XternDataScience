{
 "cells": [
  {
   "cell_type": "markdown",
   "metadata": {},
   "source": [
    "### I used this note book to explore the data\n",
    "### I also used tableau when trying to detect a patten in the corrdinate data\n",
    "### The tableau notebook is also in the github repositoy"
   ]
  },
  {
   "cell_type": "markdown",
   "metadata": {},
   "source": [
    "# Importing Data Science Libraries"
   ]
  },
  {
   "cell_type": "code",
   "execution_count": 1,
   "metadata": {
    "collapsed": true
   },
   "outputs": [],
   "source": [
    "import pandas as pd\n",
    "import numpy as np\n",
    "import seaborn as sns\n",
    "import matplotlib.pyplot as plt\n",
    "%matplotlib inline"
   ]
  },
  {
   "cell_type": "markdown",
   "metadata": {},
   "source": [
    "# Read in data"
   ]
  },
  {
   "cell_type": "code",
   "execution_count": 2,
   "metadata": {
    "collapsed": true
   },
   "outputs": [],
   "source": [
    "df = pd.read_csv('Xtern Raw Data.csv')"
   ]
  },
  {
   "cell_type": "markdown",
   "metadata": {
    "collapsed": false
   },
   "source": [
    "# General Data Exploration"
   ]
  },
  {
   "cell_type": "code",
   "execution_count": 3,
   "metadata": {
    "collapsed": false
   },
   "outputs": [
    {
     "data": {
      "text/plain": [
       "Index(['entry', 'user', 'timestamp', 'xcoordinate', 'ycoordinate'], dtype='object')"
      ]
     },
     "execution_count": 3,
     "metadata": {},
     "output_type": "execute_result"
    }
   ],
   "source": [
    "df.keys()"
   ]
  },
  {
   "cell_type": "code",
   "execution_count": 5,
   "metadata": {
    "collapsed": false
   },
   "outputs": [
    {
     "data": {
      "text/html": [
       "<div>\n",
       "<style>\n",
       "    .dataframe thead tr:only-child th {\n",
       "        text-align: right;\n",
       "    }\n",
       "\n",
       "    .dataframe thead th {\n",
       "        text-align: left;\n",
       "    }\n",
       "\n",
       "    .dataframe tbody tr th {\n",
       "        vertical-align: top;\n",
       "    }\n",
       "</style>\n",
       "<table border=\"1\" class=\"dataframe\">\n",
       "  <thead>\n",
       "    <tr style=\"text-align: right;\">\n",
       "      <th></th>\n",
       "      <th>entry</th>\n",
       "      <th>user</th>\n",
       "      <th>timestamp</th>\n",
       "      <th>xcoordinate</th>\n",
       "      <th>ycoordinate</th>\n",
       "    </tr>\n",
       "  </thead>\n",
       "  <tbody>\n",
       "    <tr>\n",
       "      <th>0</th>\n",
       "      <td>0</td>\n",
       "      <td>12</td>\n",
       "      <td>7/13/2017 9:36</td>\n",
       "      <td>0.906835</td>\n",
       "      <td>0.776484</td>\n",
       "    </tr>\n",
       "    <tr>\n",
       "      <th>1</th>\n",
       "      <td>1</td>\n",
       "      <td>12</td>\n",
       "      <td>7/30/2017 15:23</td>\n",
       "      <td>0.928587</td>\n",
       "      <td>0.804964</td>\n",
       "    </tr>\n",
       "    <tr>\n",
       "      <th>2</th>\n",
       "      <td>2</td>\n",
       "      <td>12</td>\n",
       "      <td>5/5/2017 0:41</td>\n",
       "      <td>0.904091</td>\n",
       "      <td>0.784043</td>\n",
       "    </tr>\n",
       "    <tr>\n",
       "      <th>3</th>\n",
       "      <td>3</td>\n",
       "      <td>12</td>\n",
       "      <td>7/26/2017 6:10</td>\n",
       "      <td>0.906752</td>\n",
       "      <td>0.804461</td>\n",
       "    </tr>\n",
       "    <tr>\n",
       "      <th>4</th>\n",
       "      <td>4</td>\n",
       "      <td>12</td>\n",
       "      <td>5/22/2017 13:22</td>\n",
       "      <td>0.900641</td>\n",
       "      <td>0.781683</td>\n",
       "    </tr>\n",
       "  </tbody>\n",
       "</table>\n",
       "</div>"
      ],
      "text/plain": [
       "   entry  user        timestamp  xcoordinate  ycoordinate\n",
       "0      0    12   7/13/2017 9:36     0.906835     0.776484\n",
       "1      1    12  7/30/2017 15:23     0.928587     0.804964\n",
       "2      2    12    5/5/2017 0:41     0.904091     0.784043\n",
       "3      3    12   7/26/2017 6:10     0.906752     0.804461\n",
       "4      4    12  5/22/2017 13:22     0.900641     0.781683"
      ]
     },
     "execution_count": 5,
     "metadata": {},
     "output_type": "execute_result"
    }
   ],
   "source": [
    "df.head()"
   ]
  },
  {
   "cell_type": "code",
   "execution_count": null,
   "metadata": {
    "collapsed": true
   },
   "outputs": [],
   "source": [
    "from datetime import datetime\n",
    "import time"
   ]
  },
  {
   "cell_type": "markdown",
   "metadata": {},
   "source": [
    "### Convert TimeStamp into usable date Time"
   ]
  },
  {
   "cell_type": "code",
   "execution_count": 6,
   "metadata": {
    "collapsed": false
   },
   "outputs": [],
   "source": [
    "datetimeForm = []\n",
    "year = []\n",
    "month = []\n",
    "day = []\n",
    "dayOfWeek = []\n",
    "hour = []\n",
    "minute = []\n",
    "for i, row in enumerate(df.values):\n",
    "    dtime = df['timestamp'][i].replace(\"/\", \" \").replace(\":\", \" \")\n",
    "    parsedDTime = time.strptime(dtime, \"%m %d %Y %H %M\")\n",
    "    datetimeForm.append(parsedDTime)\n",
    "    year.append(parsedDTime[0])\n",
    "    month.append(parsedDTime[1])\n",
    "    day.append(parsedDTime[2])\n",
    "    dayOfWeek.append(parsedDTime[6])\n",
    "    hour.append(parsedDTime[3])\n",
    "    minute.append(parsedDTime[4])\n",
    "df['dateTime'] = datetimeForm\n",
    "df['year'] = year\n",
    "df['month'] = month\n",
    "df['day'] = day\n",
    "df['dayOfWeek'] = dayOfWeek\n",
    "df['hour'] = hour\n",
    "df['minute'] = minute"
   ]
  },
  {
   "cell_type": "markdown",
   "metadata": {},
   "source": [
    "### Now the dataFrame can be isolated by various times sets include day of the week"
   ]
  },
  {
   "cell_type": "code",
   "execution_count": 7,
   "metadata": {
    "collapsed": false
   },
   "outputs": [
    {
     "data": {
      "text/html": [
       "<div>\n",
       "<style>\n",
       "    .dataframe thead tr:only-child th {\n",
       "        text-align: right;\n",
       "    }\n",
       "\n",
       "    .dataframe thead th {\n",
       "        text-align: left;\n",
       "    }\n",
       "\n",
       "    .dataframe tbody tr th {\n",
       "        vertical-align: top;\n",
       "    }\n",
       "</style>\n",
       "<table border=\"1\" class=\"dataframe\">\n",
       "  <thead>\n",
       "    <tr style=\"text-align: right;\">\n",
       "      <th></th>\n",
       "      <th>entry</th>\n",
       "      <th>user</th>\n",
       "      <th>timestamp</th>\n",
       "      <th>xcoordinate</th>\n",
       "      <th>ycoordinate</th>\n",
       "      <th>dateTime</th>\n",
       "      <th>year</th>\n",
       "      <th>month</th>\n",
       "      <th>day</th>\n",
       "      <th>dayOfWeek</th>\n",
       "      <th>hour</th>\n",
       "      <th>minute</th>\n",
       "    </tr>\n",
       "  </thead>\n",
       "  <tbody>\n",
       "    <tr>\n",
       "      <th>0</th>\n",
       "      <td>0</td>\n",
       "      <td>12</td>\n",
       "      <td>7/13/2017 9:36</td>\n",
       "      <td>0.906835</td>\n",
       "      <td>0.776484</td>\n",
       "      <td>(2017, 7, 13, 9, 36, 0, 3, 194, -1)</td>\n",
       "      <td>2017</td>\n",
       "      <td>7</td>\n",
       "      <td>13</td>\n",
       "      <td>3</td>\n",
       "      <td>9</td>\n",
       "      <td>36</td>\n",
       "    </tr>\n",
       "    <tr>\n",
       "      <th>1</th>\n",
       "      <td>1</td>\n",
       "      <td>12</td>\n",
       "      <td>7/30/2017 15:23</td>\n",
       "      <td>0.928587</td>\n",
       "      <td>0.804964</td>\n",
       "      <td>(2017, 7, 30, 15, 23, 0, 6, 211, -1)</td>\n",
       "      <td>2017</td>\n",
       "      <td>7</td>\n",
       "      <td>30</td>\n",
       "      <td>6</td>\n",
       "      <td>15</td>\n",
       "      <td>23</td>\n",
       "    </tr>\n",
       "    <tr>\n",
       "      <th>2</th>\n",
       "      <td>2</td>\n",
       "      <td>12</td>\n",
       "      <td>5/5/2017 0:41</td>\n",
       "      <td>0.904091</td>\n",
       "      <td>0.784043</td>\n",
       "      <td>(2017, 5, 5, 0, 41, 0, 4, 125, -1)</td>\n",
       "      <td>2017</td>\n",
       "      <td>5</td>\n",
       "      <td>5</td>\n",
       "      <td>4</td>\n",
       "      <td>0</td>\n",
       "      <td>41</td>\n",
       "    </tr>\n",
       "    <tr>\n",
       "      <th>3</th>\n",
       "      <td>3</td>\n",
       "      <td>12</td>\n",
       "      <td>7/26/2017 6:10</td>\n",
       "      <td>0.906752</td>\n",
       "      <td>0.804461</td>\n",
       "      <td>(2017, 7, 26, 6, 10, 0, 2, 207, -1)</td>\n",
       "      <td>2017</td>\n",
       "      <td>7</td>\n",
       "      <td>26</td>\n",
       "      <td>2</td>\n",
       "      <td>6</td>\n",
       "      <td>10</td>\n",
       "    </tr>\n",
       "    <tr>\n",
       "      <th>4</th>\n",
       "      <td>4</td>\n",
       "      <td>12</td>\n",
       "      <td>5/22/2017 13:22</td>\n",
       "      <td>0.900641</td>\n",
       "      <td>0.781683</td>\n",
       "      <td>(2017, 5, 22, 13, 22, 0, 0, 142, -1)</td>\n",
       "      <td>2017</td>\n",
       "      <td>5</td>\n",
       "      <td>22</td>\n",
       "      <td>0</td>\n",
       "      <td>13</td>\n",
       "      <td>22</td>\n",
       "    </tr>\n",
       "  </tbody>\n",
       "</table>\n",
       "</div>"
      ],
      "text/plain": [
       "   entry  user        timestamp  xcoordinate  ycoordinate  \\\n",
       "0      0    12   7/13/2017 9:36     0.906835     0.776484   \n",
       "1      1    12  7/30/2017 15:23     0.928587     0.804964   \n",
       "2      2    12    5/5/2017 0:41     0.904091     0.784043   \n",
       "3      3    12   7/26/2017 6:10     0.906752     0.804461   \n",
       "4      4    12  5/22/2017 13:22     0.900641     0.781683   \n",
       "\n",
       "                               dateTime  year  month  day  dayOfWeek  hour  \\\n",
       "0   (2017, 7, 13, 9, 36, 0, 3, 194, -1)  2017      7   13          3     9   \n",
       "1  (2017, 7, 30, 15, 23, 0, 6, 211, -1)  2017      7   30          6    15   \n",
       "2    (2017, 5, 5, 0, 41, 0, 4, 125, -1)  2017      5    5          4     0   \n",
       "3   (2017, 7, 26, 6, 10, 0, 2, 207, -1)  2017      7   26          2     6   \n",
       "4  (2017, 5, 22, 13, 22, 0, 0, 142, -1)  2017      5   22          0    13   \n",
       "\n",
       "   minute  \n",
       "0      36  \n",
       "1      23  \n",
       "2      41  \n",
       "3      10  \n",
       "4      22  "
      ]
     },
     "execution_count": 7,
     "metadata": {},
     "output_type": "execute_result"
    }
   ],
   "source": [
    "df.head()"
   ]
  },
  {
   "cell_type": "code",
   "execution_count": 8,
   "metadata": {
    "collapsed": false
   },
   "outputs": [
    {
     "data": {
      "text/html": [
       "<div>\n",
       "<style>\n",
       "    .dataframe thead tr:only-child th {\n",
       "        text-align: right;\n",
       "    }\n",
       "\n",
       "    .dataframe thead th {\n",
       "        text-align: left;\n",
       "    }\n",
       "\n",
       "    .dataframe tbody tr th {\n",
       "        vertical-align: top;\n",
       "    }\n",
       "</style>\n",
       "<table border=\"1\" class=\"dataframe\">\n",
       "  <thead>\n",
       "    <tr style=\"text-align: right;\">\n",
       "      <th></th>\n",
       "      <th>entry</th>\n",
       "      <th>user</th>\n",
       "      <th>xcoordinate</th>\n",
       "      <th>ycoordinate</th>\n",
       "      <th>year</th>\n",
       "      <th>month</th>\n",
       "      <th>day</th>\n",
       "      <th>dayOfWeek</th>\n",
       "      <th>hour</th>\n",
       "      <th>minute</th>\n",
       "    </tr>\n",
       "  </thead>\n",
       "  <tbody>\n",
       "    <tr>\n",
       "      <th>count</th>\n",
       "      <td>25668.000000</td>\n",
       "      <td>25668.000000</td>\n",
       "      <td>25668.000000</td>\n",
       "      <td>25668.000000</td>\n",
       "      <td>25668.0</td>\n",
       "      <td>25668.000000</td>\n",
       "      <td>25668.000000</td>\n",
       "      <td>25668.000000</td>\n",
       "      <td>25668.000000</td>\n",
       "      <td>25668.000000</td>\n",
       "    </tr>\n",
       "    <tr>\n",
       "      <th>mean</th>\n",
       "      <td>12833.500000</td>\n",
       "      <td>38.167680</td>\n",
       "      <td>0.491567</td>\n",
       "      <td>0.437083</td>\n",
       "      <td>2017.0</td>\n",
       "      <td>6.021700</td>\n",
       "      <td>15.695379</td>\n",
       "      <td>2.974794</td>\n",
       "      <td>11.303686</td>\n",
       "      <td>29.457924</td>\n",
       "    </tr>\n",
       "    <tr>\n",
       "      <th>std</th>\n",
       "      <td>7409.857691</td>\n",
       "      <td>30.528581</td>\n",
       "      <td>0.474552</td>\n",
       "      <td>0.515695</td>\n",
       "      <td>0.0</td>\n",
       "      <td>0.817869</td>\n",
       "      <td>8.901825</td>\n",
       "      <td>2.019933</td>\n",
       "      <td>6.987278</td>\n",
       "      <td>17.042179</td>\n",
       "    </tr>\n",
       "    <tr>\n",
       "      <th>min</th>\n",
       "      <td>0.000000</td>\n",
       "      <td>0.000000</td>\n",
       "      <td>-0.300062</td>\n",
       "      <td>-0.290196</td>\n",
       "      <td>2017.0</td>\n",
       "      <td>5.000000</td>\n",
       "      <td>1.000000</td>\n",
       "      <td>0.000000</td>\n",
       "      <td>0.000000</td>\n",
       "      <td>0.000000</td>\n",
       "    </tr>\n",
       "    <tr>\n",
       "      <th>25%</th>\n",
       "      <td>6416.750000</td>\n",
       "      <td>9.000000</td>\n",
       "      <td>0.211375</td>\n",
       "      <td>-0.025581</td>\n",
       "      <td>2017.0</td>\n",
       "      <td>5.000000</td>\n",
       "      <td>8.000000</td>\n",
       "      <td>1.000000</td>\n",
       "      <td>5.000000</td>\n",
       "      <td>15.000000</td>\n",
       "    </tr>\n",
       "    <tr>\n",
       "      <th>50%</th>\n",
       "      <td>12833.500000</td>\n",
       "      <td>34.000000</td>\n",
       "      <td>0.403102</td>\n",
       "      <td>0.312886</td>\n",
       "      <td>2017.0</td>\n",
       "      <td>6.000000</td>\n",
       "      <td>16.000000</td>\n",
       "      <td>3.000000</td>\n",
       "      <td>11.000000</td>\n",
       "      <td>30.000000</td>\n",
       "    </tr>\n",
       "    <tr>\n",
       "      <th>75%</th>\n",
       "      <td>19250.250000</td>\n",
       "      <td>63.000000</td>\n",
       "      <td>0.929187</td>\n",
       "      <td>0.883513</td>\n",
       "      <td>2017.0</td>\n",
       "      <td>7.000000</td>\n",
       "      <td>23.000000</td>\n",
       "      <td>5.000000</td>\n",
       "      <td>17.000000</td>\n",
       "      <td>44.000000</td>\n",
       "    </tr>\n",
       "    <tr>\n",
       "      <th>max</th>\n",
       "      <td>25667.000000</td>\n",
       "      <td>99.000000</td>\n",
       "      <td>1.369517</td>\n",
       "      <td>1.357176</td>\n",
       "      <td>2017.0</td>\n",
       "      <td>7.000000</td>\n",
       "      <td>31.000000</td>\n",
       "      <td>6.000000</td>\n",
       "      <td>23.000000</td>\n",
       "      <td>59.000000</td>\n",
       "    </tr>\n",
       "  </tbody>\n",
       "</table>\n",
       "</div>"
      ],
      "text/plain": [
       "              entry          user   xcoordinate   ycoordinate     year  \\\n",
       "count  25668.000000  25668.000000  25668.000000  25668.000000  25668.0   \n",
       "mean   12833.500000     38.167680      0.491567      0.437083   2017.0   \n",
       "std     7409.857691     30.528581      0.474552      0.515695      0.0   \n",
       "min        0.000000      0.000000     -0.300062     -0.290196   2017.0   \n",
       "25%     6416.750000      9.000000      0.211375     -0.025581   2017.0   \n",
       "50%    12833.500000     34.000000      0.403102      0.312886   2017.0   \n",
       "75%    19250.250000     63.000000      0.929187      0.883513   2017.0   \n",
       "max    25667.000000     99.000000      1.369517      1.357176   2017.0   \n",
       "\n",
       "              month           day     dayOfWeek          hour        minute  \n",
       "count  25668.000000  25668.000000  25668.000000  25668.000000  25668.000000  \n",
       "mean       6.021700     15.695379      2.974794     11.303686     29.457924  \n",
       "std        0.817869      8.901825      2.019933      6.987278     17.042179  \n",
       "min        5.000000      1.000000      0.000000      0.000000      0.000000  \n",
       "25%        5.000000      8.000000      1.000000      5.000000     15.000000  \n",
       "50%        6.000000     16.000000      3.000000     11.000000     30.000000  \n",
       "75%        7.000000     23.000000      5.000000     17.000000     44.000000  \n",
       "max        7.000000     31.000000      6.000000     23.000000     59.000000  "
      ]
     },
     "execution_count": 8,
     "metadata": {},
     "output_type": "execute_result"
    }
   ],
   "source": [
    "df.describe()"
   ]
  },
  {
   "cell_type": "markdown",
   "metadata": {},
   "source": [
    "### Finding general information about dataset"
   ]
  },
  {
   "cell_type": "code",
   "execution_count": 9,
   "metadata": {
    "collapsed": false
   },
   "outputs": [
    {
     "data": {
      "text/plain": [
       "<matplotlib.axes._subplots.AxesSubplot at 0x27efa586198>"
      ]
     },
     "execution_count": 9,
     "metadata": {},
     "output_type": "execute_result"
    },
    {
     "data": {
      "image/png": "[encoded data removed]",
      "text/plain": [
       "<matplotlib.figure.Figure at 0x27ef9cc7c18>"
      ]
     },
     "metadata": {},
     "output_type": "display_data"
    }
   ],
   "source": [
    "df['user'].plot.hist()"
   ]
  },
  {
   "cell_type": "markdown",
   "metadata": {},
   "source": [
    "# Users 0-10 have been more than twice as active over the past three months"
   ]
  },
  {
   "cell_type": "code",
   "execution_count": 10,
   "metadata": {
    "collapsed": false
   },
   "outputs": [
    {
     "data": {
      "text/plain": [
       "<matplotlib.axes._subplots.AxesSubplot at 0x22830f26518>"
      ]
     },
     "execution_count": 10,
     "metadata": {},
     "output_type": "execute_result"
    },
    {
     "data": {
      "image/png": "[encoded data removed]",
      "text/plain": [
       "<matplotlib.figure.Figure at 0x22830f2f780>"
      ]
     },
     "metadata": {},
     "output_type": "display_data"
    }
   ],
   "source": [
    "df['xcoordinate'].plot.hist()"
   ]
  },
  {
   "cell_type": "markdown",
   "metadata": {},
   "source": [
    "### The multimodalliy shows possible groupings"
   ]
  },
  {
   "cell_type": "code",
   "execution_count": 11,
   "metadata": {
    "collapsed": false
   },
   "outputs": [
    {
     "data": {
      "text/plain": [
       "<matplotlib.axes._subplots.AxesSubplot at 0x22830e72a90>"
      ]
     },
     "execution_count": 11,
     "metadata": {},
     "output_type": "execute_result"
    },
    {
     "data": {
      "image/png": "[encoded data removed]",
      "text/plain": [
       "<matplotlib.figure.Figure at 0x22830f2fcf8>"
      ]
     },
     "metadata": {},
     "output_type": "display_data"
    }
   ],
   "source": [
    "df['ycoordinate'].plot.hist()"
   ]
  },
  {
   "cell_type": "markdown",
   "metadata": {},
   "source": [
    "### The multimodalliy again shows possible groupings"
   ]
  },
  {
   "cell_type": "markdown",
   "metadata": {},
   "source": [
    "### Plot X vs Y"
   ]
  },
  {
   "cell_type": "code",
   "execution_count": 12,
   "metadata": {
    "collapsed": false
   },
   "outputs": [
    {
     "data": {
      "text/plain": [
       "<matplotlib.axes._subplots.AxesSubplot at 0x22830a5ba20>"
      ]
     },
     "execution_count": 12,
     "metadata": {},
     "output_type": "execute_result"
    },
    {
     "data": {
      "image/png": "[encoded data removed]",
      "text/plain": [
       "<matplotlib.figure.Figure at 0x22830f2f668>"
      ]
     },
     "metadata": {},
     "output_type": "display_data"
    }
   ],
   "source": [
    "df.plot.scatter(x='xcoordinate',y='ycoordinate')"
   ]
  },
  {
   "cell_type": "markdown",
   "metadata": {},
   "source": [
    "### 19 Clusters have appeared over the past three months"
   ]
  },
  {
   "cell_type": "markdown",
   "metadata": {
    "collapsed": true
   },
   "source": [
    "# Developers could set alerts for new activity around the above clusters"
   ]
  },
  {
   "cell_type": "code",
   "execution_count": 42,
   "metadata": {
    "collapsed": false
   },
   "outputs": [
    {
     "data": {
      "text/plain": [
       "<matplotlib.axes._subplots.AxesSubplot at 0x27eff5f5898>"
      ]
     },
     "execution_count": 42,
     "metadata": {},
     "output_type": "execute_result"
    },
    {
     "data": {
      "image/png": "[encoded data removed]",
      "text/plain": [
       "<matplotlib.figure.Figure at 0x27eff7454a8>"
      ]
     },
     "metadata": {},
     "output_type": "display_data"
    }
   ],
   "source": [
    "df['dayOfWeek'].value_counts().sort_index().plot(kind='bar')"
   ]
  },
  {
   "cell_type": "markdown",
   "metadata": {},
   "source": [
    "### In the Above graph\n",
    "* 0 is Monday\n",
    "* 1 is Tuesday\n",
    "* 2 is Wensday\n",
    "* 3 is Thursday\n",
    "* 4 is Friday\n",
    "* 5 is Saturday\n",
    "* 6 is Sunday"
   ]
  },
  {
   "cell_type": "markdown",
   "metadata": {},
   "source": [
    "### Saturday is the most popular day to use the app"
   ]
  },
  {
   "cell_type": "code",
   "execution_count": 41,
   "metadata": {
    "collapsed": false
   },
   "outputs": [
    {
     "data": {
      "text/plain": [
       "<matplotlib.axes._subplots.AxesSubplot at 0x27eff66a6d8>"
      ]
     },
     "execution_count": 41,
     "metadata": {},
     "output_type": "execute_result"
    },
    {
     "data": {
      "image/png": "[encoded data removed]",
      "text/plain": [
       "<matplotlib.figure.Figure at 0x27eff685940>"
      ]
     },
     "metadata": {},
     "output_type": "display_data"
    }
   ],
   "source": [
    "df['hour'].value_counts().sort_index().plot(kind='bar')"
   ]
  },
  {
   "cell_type": "markdown",
   "metadata": {},
   "source": [
    "# 1 am has been the most popular time to use the app"
   ]
  },
  {
   "cell_type": "code",
   "execution_count": 39,
   "metadata": {
    "collapsed": false
   },
   "outputs": [
    {
     "data": {
      "text/plain": [
       "<matplotlib.axes._subplots.AxesSubplot at 0x27efd677438>"
      ]
     },
     "execution_count": 39,
     "metadata": {},
     "output_type": "execute_result"
    },
    {
     "data": {
      "image/png": "[encoded data removed]",
      "text/plain": [
       "<matplotlib.figure.Figure at 0x27efd699a58>"
      ]
     },
     "metadata": {},
     "output_type": "display_data"
    }
   ],
   "source": [
    "df['month'].value_counts().sort_values().plot(kind='bar')"
   ]
  },
  {
   "cell_type": "markdown",
   "metadata": {},
   "source": [
    "# Total Requests have grown over the past 3 Months"
   ]
  },
  {
   "cell_type": "markdown",
   "metadata": {
    "collapsed": false
   },
   "source": [
    "# Lets identify the X and Y coords of the Clusters from the past 3 Months"
   ]
  },
  {
   "cell_type": "markdown",
   "metadata": {},
   "source": [
    "# These areas of increased activity should be the Community Highlights"
   ]
  },
  {
   "cell_type": "code",
   "execution_count": 58,
   "metadata": {
    "collapsed": true
   },
   "outputs": [],
   "source": [
    "from sklearn.cluster import KMeans"
   ]
  },
  {
   "cell_type": "code",
   "execution_count": 59,
   "metadata": {
    "collapsed": true
   },
   "outputs": [],
   "source": [
    "kmeans = KMeans(n_clusters=19)"
   ]
  },
  {
   "cell_type": "code",
   "execution_count": 60,
   "metadata": {
    "collapsed": false
   },
   "outputs": [
    {
     "data": {
      "text/plain": [
       "KMeans(algorithm='auto', copy_x=True, init='k-means++', max_iter=300,\n",
       "    n_clusters=19, n_init=10, n_jobs=1, precompute_distances='auto',\n",
       "    random_state=None, tol=0.0001, verbose=0)"
      ]
     },
     "execution_count": 60,
     "metadata": {},
     "output_type": "execute_result"
    }
   ],
   "source": [
    "dfCluster = df[['xcoordinate','ycoordinate']]\n",
    "clusterArray = dfCluster.as_matrix()\n",
    "kmeans.fit(clusterArray)"
   ]
  },
  {
   "cell_type": "markdown",
   "metadata": {},
   "source": [
    "# The 19 clusters colored by k means"
   ]
  },
  {
   "cell_type": "code",
   "execution_count": 61,
   "metadata": {
    "collapsed": false
   },
   "outputs": [
    {
     "data": {
      "text/plain": [
       "<matplotlib.collections.PathCollection at 0x27e838394a8>"
      ]
     },
     "execution_count": 61,
     "metadata": {},
     "output_type": "execute_result"
    },
    {
     "data": {
      "image/png": "[encoded data removed]",
      "text/plain": [
       "<matplotlib.figure.Figure at 0x27eff7450f0>"
      ]
     },
     "metadata": {},
     "output_type": "display_data"
    }
   ],
   "source": [
    "f, ax1 = plt.subplots(1, 1, sharey=True,figsize=(10,6))\n",
    "ax1.set_title('K Means')\n",
    "ax1.scatter(clusterArray[:,0],clusterArray[:,1],c=kmeans.labels_, cmap='tab20')"
   ]
  },
  {
   "cell_type": "markdown",
   "metadata": {
    "collapsed": false
   },
   "source": [
    "# Where the community highlights centers are:"
   ]
  },
  {
   "cell_type": "code",
   "execution_count": 89,
   "metadata": {
    "collapsed": false
   },
   "outputs": [
    {
     "data": {
      "text/plain": [
       "array([[-0.13163647,  0.31803754],\n",
       "       [ 0.90545257,  0.79715971],\n",
       "       [-0.10529558,  0.32130569],\n",
       "       [ 0.9225186 ,  0.80345775],\n",
       "       [ 0.88901798,  0.79918239],\n",
       "       [-0.12640104,  0.33024577],\n",
       "       [-0.12600553,  0.30612656],\n",
       "       [-0.13563348,  0.32744984],\n",
       "       [-0.11035166,  0.31480417],\n",
       "       [ 0.89885161,  0.80467056],\n",
       "       [ 0.90628563,  0.79108554],\n",
       "       [-0.10944687,  0.32392559],\n",
       "       [ 0.88704267,  0.79636194],\n",
       "       [-0.10670922,  0.3185423 ]])"
      ]
     },
     "execution_count": 89,
     "metadata": {},
     "output_type": "execute_result"
    }
   ],
   "source": [
    "kmeans.cluster_centers_"
   ]
  },
  {
   "cell_type": "code",
   "execution_count": null,
   "metadata": {
    "collapsed": true
   },
   "outputs": [],
   "source": []
  },
  {
   "cell_type": "markdown",
   "metadata": {
    "collapsed": true
   },
   "source": [
    "# Using K means to see community highlights over time\n",
    "### The Following Code segement calculates the number of community highlights there were for each hour of each day\n",
    "### This code can be adapted to run each hour to find out where the community highlight events are located \n",
    "##### Takes about 30 mins to run on my computer"
   ]
  },
  {
   "cell_type": "code",
   "execution_count": 63,
   "metadata": {
    "collapsed": true
   },
   "outputs": [],
   "source": [
    "from sklearn.metrics import silhouette_score"
   ]
  },
  {
   "cell_type": "code",
   "execution_count": 88,
   "metadata": {
    "collapsed": false
   },
   "outputs": [],
   "source": [
    "dfCH = pd.DataFrame()\n",
    "months = []\n",
    "days = []\n",
    "hours = []\n",
    "numberOfCH = []\n",
    "CHCenters = []\n",
    "for month in range (5,8):\n",
    "    for day in range (1 , 32):\n",
    "        for hour in range (0,24):\n",
    "            dfMonth = df[(df['month'] == month)]\n",
    "            dfDay = dfMonth[(dfMonth['day'] == day)]\n",
    "            dfHour = dfDay[(dfDay['hour'] == hour)]\n",
    "            dfCoords = (dfHour[['xcoordinate','ycoordinate']])\n",
    "            dfTest = dfCoords.as_matrix()\n",
    "            if(len(dfTest) > 2):\n",
    "                if(len(dfTest) <= 19):\n",
    "                    upper = len(dfTest)\n",
    "                else:\n",
    "                    upper = 20\n",
    "                s = []\n",
    "                label = []\n",
    "                centers = []\n",
    "                for n_clusters in range(2,upper):\n",
    "                    kmeans = KMeans(n_clusters=n_clusters)\n",
    "                    kmeans.fit(dfTest)\n",
    "                    labels = kmeans.labels_\n",
    "                    centroids = kmeans.cluster_centers_\n",
    "                    label.append(labels.tolist())\n",
    "                    centers.append(centroids)\n",
    "                    s.append(silhouette_score(dfTest, labels, metric='euclidean'))\n",
    "                months.append(month)\n",
    "                days.append(day)\n",
    "                hours.append(hour)\n",
    "                numberOfCH.append(s.index(max(s)) + 2)\n",
    "                CHCenters.append(centers)\n",
    "            else:\n",
    "                months.append(month)\n",
    "                days.append(day)\n",
    "                hours.append(hour)\n",
    "                numberOfCH.append(0)\n",
    "                CHCenters.append([])\n",
    "                CHLabels.append([])\n",
    "                "
   ]
  },
  {
   "cell_type": "markdown",
   "metadata": {
    "collapsed": false
   },
   "source": [
    "# Append data to a new data frame"
   ]
  },
  {
   "cell_type": "code",
   "execution_count": 90,
   "metadata": {
    "collapsed": false
   },
   "outputs": [],
   "source": [
    "dfCH['month'] = months\n",
    "dfCH['day'] = days\n",
    "dfCH['hour'] = hours\n",
    "dfCH['CHCount'] = numberOfCH\n",
    "dfCH['centers'] = CHCenters"
   ]
  },
  {
   "cell_type": "code",
   "execution_count": 91,
   "metadata": {
    "collapsed": false
   },
   "outputs": [
    {
     "data": {
      "text/html": [
       "<div>\n",
       "<style>\n",
       "    .dataframe thead tr:only-child th {\n",
       "        text-align: right;\n",
       "    }\n",
       "\n",
       "    .dataframe thead th {\n",
       "        text-align: left;\n",
       "    }\n",
       "\n",
       "    .dataframe tbody tr th {\n",
       "        vertical-align: top;\n",
       "    }\n",
       "</style>\n",
       "<table border=\"1\" class=\"dataframe\">\n",
       "  <thead>\n",
       "    <tr style=\"text-align: right;\">\n",
       "      <th></th>\n",
       "      <th>month</th>\n",
       "      <th>day</th>\n",
       "      <th>hour</th>\n",
       "      <th>CHCount</th>\n",
       "      <th>centers</th>\n",
       "    </tr>\n",
       "  </thead>\n",
       "  <tbody>\n",
       "    <tr>\n",
       "      <th>0</th>\n",
       "      <td>5</td>\n",
       "      <td>1</td>\n",
       "      <td>0</td>\n",
       "      <td>2</td>\n",
       "      <td>[[[0.3962652785, 0.0598117615], [0.407676807, ...</td>\n",
       "    </tr>\n",
       "    <tr>\n",
       "      <th>1</th>\n",
       "      <td>5</td>\n",
       "      <td>1</td>\n",
       "      <td>1</td>\n",
       "      <td>3</td>\n",
       "      <td>[[[-0.24385389775, 0.0599948187083], [0.978898...</td>\n",
       "    </tr>\n",
       "    <tr>\n",
       "      <th>2</th>\n",
       "      <td>5</td>\n",
       "      <td>1</td>\n",
       "      <td>2</td>\n",
       "      <td>5</td>\n",
       "      <td>[[[0.901930291889, 1.084698787], [-0.082126854...</td>\n",
       "    </tr>\n",
       "    <tr>\n",
       "      <th>3</th>\n",
       "      <td>5</td>\n",
       "      <td>1</td>\n",
       "      <td>3</td>\n",
       "      <td>2</td>\n",
       "      <td>[[[0.9583983965, 1.30082697], [0.9736791585, 1...</td>\n",
       "    </tr>\n",
       "    <tr>\n",
       "      <th>4</th>\n",
       "      <td>5</td>\n",
       "      <td>1</td>\n",
       "      <td>4</td>\n",
       "      <td>2</td>\n",
       "      <td>[[[0.214578344667, 0.131748893], [0.90716064, ...</td>\n",
       "    </tr>\n",
       "  </tbody>\n",
       "</table>\n",
       "</div>"
      ],
      "text/plain": [
       "   month  day  hour  CHCount  \\\n",
       "0      5    1     0        2   \n",
       "1      5    1     1        3   \n",
       "2      5    1     2        5   \n",
       "3      5    1     3        2   \n",
       "4      5    1     4        2   \n",
       "\n",
       "                                             centers  \n",
       "0  [[[0.3962652785, 0.0598117615], [0.407676807, ...  \n",
       "1  [[[-0.24385389775, 0.0599948187083], [0.978898...  \n",
       "2  [[[0.901930291889, 1.084698787], [-0.082126854...  \n",
       "3  [[[0.9583983965, 1.30082697], [0.9736791585, 1...  \n",
       "4  [[[0.214578344667, 0.131748893], [0.90716064, ...  "
      ]
     },
     "execution_count": 91,
     "metadata": {},
     "output_type": "execute_result"
    }
   ],
   "source": [
    "dfCH.head()"
   ]
  },
  {
   "cell_type": "code",
   "execution_count": 92,
   "metadata": {
    "collapsed": false
   },
   "outputs": [
    {
     "data": {
      "text/html": [
       "<div>\n",
       "<style>\n",
       "    .dataframe thead tr:only-child th {\n",
       "        text-align: right;\n",
       "    }\n",
       "\n",
       "    .dataframe thead th {\n",
       "        text-align: left;\n",
       "    }\n",
       "\n",
       "    .dataframe tbody tr th {\n",
       "        vertical-align: top;\n",
       "    }\n",
       "</style>\n",
       "<table border=\"1\" class=\"dataframe\">\n",
       "  <thead>\n",
       "    <tr style=\"text-align: right;\">\n",
       "      <th></th>\n",
       "      <th>month</th>\n",
       "      <th>day</th>\n",
       "      <th>hour</th>\n",
       "      <th>CHCount</th>\n",
       "    </tr>\n",
       "  </thead>\n",
       "  <tbody>\n",
       "    <tr>\n",
       "      <th>count</th>\n",
       "      <td>2232.00000</td>\n",
       "      <td>2232.000000</td>\n",
       "      <td>2232.000000</td>\n",
       "      <td>2232.000000</td>\n",
       "    </tr>\n",
       "    <tr>\n",
       "      <th>mean</th>\n",
       "      <td>6.00000</td>\n",
       "      <td>16.000000</td>\n",
       "      <td>11.500000</td>\n",
       "      <td>2.378136</td>\n",
       "    </tr>\n",
       "    <tr>\n",
       "      <th>std</th>\n",
       "      <td>0.81668</td>\n",
       "      <td>8.946276</td>\n",
       "      <td>6.923738</td>\n",
       "      <td>1.322300</td>\n",
       "    </tr>\n",
       "    <tr>\n",
       "      <th>min</th>\n",
       "      <td>5.00000</td>\n",
       "      <td>1.000000</td>\n",
       "      <td>0.000000</td>\n",
       "      <td>0.000000</td>\n",
       "    </tr>\n",
       "    <tr>\n",
       "      <th>25%</th>\n",
       "      <td>5.00000</td>\n",
       "      <td>8.000000</td>\n",
       "      <td>5.750000</td>\n",
       "      <td>2.000000</td>\n",
       "    </tr>\n",
       "    <tr>\n",
       "      <th>50%</th>\n",
       "      <td>6.00000</td>\n",
       "      <td>16.000000</td>\n",
       "      <td>11.500000</td>\n",
       "      <td>2.000000</td>\n",
       "    </tr>\n",
       "    <tr>\n",
       "      <th>75%</th>\n",
       "      <td>7.00000</td>\n",
       "      <td>24.000000</td>\n",
       "      <td>17.250000</td>\n",
       "      <td>3.000000</td>\n",
       "    </tr>\n",
       "    <tr>\n",
       "      <th>max</th>\n",
       "      <td>7.00000</td>\n",
       "      <td>31.000000</td>\n",
       "      <td>23.000000</td>\n",
       "      <td>11.000000</td>\n",
       "    </tr>\n",
       "  </tbody>\n",
       "</table>\n",
       "</div>"
      ],
      "text/plain": [
       "            month          day         hour      CHCount\n",
       "count  2232.00000  2232.000000  2232.000000  2232.000000\n",
       "mean      6.00000    16.000000    11.500000     2.378136\n",
       "std       0.81668     8.946276     6.923738     1.322300\n",
       "min       5.00000     1.000000     0.000000     0.000000\n",
       "25%       5.00000     8.000000     5.750000     2.000000\n",
       "50%       6.00000    16.000000    11.500000     2.000000\n",
       "75%       7.00000    24.000000    17.250000     3.000000\n",
       "max       7.00000    31.000000    23.000000    11.000000"
      ]
     },
     "execution_count": 92,
     "metadata": {},
     "output_type": "execute_result"
    }
   ],
   "source": [
    "dfCH.describe()"
   ]
  },
  {
   "cell_type": "markdown",
   "metadata": {},
   "source": [
    "# Findings"
   ]
  },
  {
   "cell_type": "markdown",
   "metadata": {},
   "source": [
    "#### Based on the findings from the k means set there are approximately 2 potential Community Highlights per hour\n",
    "#### The developers could implement the above k means aproach each hour or set alerts for increased activity \n",
    "#### around the 19 points first discovered"
   ]
  }
 ],
 "metadata": {
  "kernelspec": {
   "display_name": "Python 3",
   "language": "python",
   "name": "python3"
  },
  "language_info": {
   "codemirror_mode": {
    "name": "ipython",
    "version": 3
   },
   "file_extension": ".py",
   "mimetype": "text/x-python",
   "name": "python",
   "nbconvert_exporter": "python",
   "pygments_lexer": "ipython3",
   "version": "3.6.0"
  }
 },
 "nbformat": 4,
 "nbformat_minor": 2
}
